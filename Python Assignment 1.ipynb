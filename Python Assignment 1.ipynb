{
 "cells": [
  {
   "cell_type": "markdown",
   "metadata": {},
   "source": [
    "# Write a program which will find all such numbers which are divisible by 7 but are not a multiple of 5, between 2000 and 3200 (both included). The numbers obtained should be printed  in a comma-separated sequence on a single line. "
   ]
  },
  {
   "cell_type": "code",
   "execution_count": 44,
   "metadata": {},
   "outputs": [
    {
     "name": "stdout",
     "output_type": "stream",
     "text": [
      "7,14,21,"
     ]
    }
   ],
   "source": [
    "number1=2000\n",
    "number2=3200\n",
    "while number1<=number2:\n",
    "    if number1 % 7==0 and number1 % 5 !=0:\n",
    "         print(number1,end=',')\n",
    "    number1=number1+1"
   ]
  },
  {
   "cell_type": "markdown",
   "metadata": {},
   "source": [
    "# Write a Python program to accept the user's first and last name and then getting them printed in the the reverse order with a space between first name and last name. \n"
   ]
  },
  {
   "cell_type": "code",
   "execution_count": 54,
   "metadata": {},
   "outputs": [
    {
     "name": "stdout",
     "output_type": "stream",
     "text": [
      "Please Enter Your First NameSoumya\n",
      "Please Enter Your Last NameNayak\n",
      "oS  aN\n"
     ]
    }
   ],
   "source": [
    "firstName= input(\"Please Enter Your First Name\")\n",
    "lastName= input(\"Please Enter Your Last Name\")\n",
    "reverseFirstName =firstName[::-1]\n",
    "reverselastName = lastName[::-1] \n",
    "print(reverseFirstName,\"\",reverselastName )"
   ]
  },
  {
   "cell_type": "markdown",
   "metadata": {},
   "source": [
    "# Using Method \n"
   ]
  },
  {
   "cell_type": "code",
   "execution_count": 65,
   "metadata": {},
   "outputs": [
    {
     "name": "stdout",
     "output_type": "stream",
     "text": [
      "Please Enter Your First Namesoumya\n",
      "Please Enter Your Last NameNayak\n",
      "aymuos  kayaN\n"
     ]
    }
   ],
   "source": [
    "def reverseName(name):\n",
    "    newname=''\n",
    "    for i in reversed(name):\n",
    "        newname= newname+i\n",
    "    return newname\n",
    "\n",
    "firstName= input(\"Please Enter Your First Name\")\n",
    "lastName= input(\"Please Enter Your Last Name\")\n",
    "reverseFirstName =reverseName(firstName)\n",
    "reverselastName = reverseName(lastName)\n",
    "print(reverseFirstName,\"\",reverselastName )"
   ]
  },
  {
   "cell_type": "markdown",
   "metadata": {},
   "source": [
    "# Write a Python program to find the volume of a sphere with diameter 12 cm.\n",
    "Formula: V=4/3 * π * r 3 \n"
   ]
  },
  {
   "cell_type": "code",
   "execution_count": 68,
   "metadata": {},
   "outputs": [
    {
     "name": "stdout",
     "output_type": "stream",
     "text": [
      "The volume of the sphere is:  904.608\n"
     ]
    }
   ],
   "source": [
    "# radius = diameter /2 \n",
    "#        =12/2\n",
    "#        =6\n",
    "\n",
    "radius=6\n",
    "# As given V=4/3 * π * r 3 \n",
    "\n",
    "V= 4/3*3.141* radius**3\n",
    "\n",
    "print('The volume of the sphere is: ',V)"
   ]
  },
  {
   "cell_type": "code",
   "execution_count": null,
   "metadata": {},
   "outputs": [],
   "source": []
  },
  {
   "cell_type": "code",
   "execution_count": null,
   "metadata": {},
   "outputs": [],
   "source": []
  }
 ],
 "metadata": {
  "kernelspec": {
   "display_name": "Python 3",
   "language": "python",
   "name": "python3"
  },
  "language_info": {
   "codemirror_mode": {
    "name": "ipython",
    "version": 3
   },
   "file_extension": ".py",
   "mimetype": "text/x-python",
   "name": "python",
   "nbconvert_exporter": "python",
   "pygments_lexer": "ipython3",
   "version": "3.8.5"
  }
 },
 "nbformat": 4,
 "nbformat_minor": 4
}
